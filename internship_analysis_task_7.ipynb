{
 "cells": [
  {
   "cell_type": "code",
   "execution_count": 1,
   "metadata": {},
   "outputs": [],
   "source": [
    "#pandas library\n",
    "import pandas as pd\n",
    "\n",
    "#dataset\n",
    "df = pd.read_csv(r'Dataset.csv')"
   ]
  },
  {
   "cell_type": "code",
   "execution_count": 2,
   "metadata": {},
   "outputs": [
    {
     "name": "stdout",
     "output_type": "stream",
     "text": [
      "Sample Information Sources:\n",
      "0    Newspapers and Magazines\n",
      "1       Financial Consultants\n",
      "2                  Television\n",
      "3                    Internet\n",
      "4                    Internet\n",
      "5                    Internet\n",
      "6       Financial Consultants\n",
      "7    Newspapers and Magazines\n",
      "8                  Television\n",
      "9    Newspapers and Magazines\n",
      "Name: Source, dtype: object\n",
      "\n",
      "Number of missing values in the 'Source' column: 0\n",
      "\n",
      "Most Common Information Sources:\n",
      "Source\n",
      "Financial Consultants       16\n",
      "Newspapers and Magazines    14\n",
      "Television                   6\n",
      "Internet                     4\n",
      "Name: count, dtype: int64\n",
      "\n",
      "Summary:\n",
      "The most common information sources for investment include:\n",
      "- Financial Consultants: 16 times\n",
      "- Newspapers and Magazines: 14 times\n",
      "- Television: 6 times\n",
      "- Internet: 4 times\n"
     ]
    }
   ],
   "source": [
    "# Step 1: Explore the 'Source' column\n",
    "print(\"Sample Information Sources:\")\n",
    "print(df['Source'].head(10))  # Display the first 10 entries\n",
    "\n",
    "# Check for missing values\n",
    "missing_values = df['Source'].isnull().sum()\n",
    "print(f\"\\nNumber of missing values in the 'Source' column: {missing_values}\")\n",
    "\n",
    "# Step 2: Identify common sources\n",
    "# Drop missing values\n",
    "info_sources = df['Source'].dropna()\n",
    "\n",
    "# Count the frequency of unique information sources\n",
    "common_sources = info_sources.value_counts()\n",
    "\n",
    "# Display the most common sources\n",
    "print(\"\\nMost Common Information Sources:\")\n",
    "print(common_sources.head(10))  # Display the top 10 most frequent sources\n",
    "\n",
    "# Summary\n",
    "print(\"\\nSummary:\")\n",
    "print(\"The most common information sources for investment include:\")\n",
    "for source, count in common_sources.items():\n",
    "    print(f\"- {source}: {count} times\")"
   ]
  }
 ],
 "metadata": {
  "kernelspec": {
   "display_name": "base",
   "language": "python",
   "name": "python3"
  },
  "language_info": {
   "codemirror_mode": {
    "name": "ipython",
    "version": 3
   },
   "file_extension": ".py",
   "mimetype": "text/x-python",
   "name": "python",
   "nbconvert_exporter": "python",
   "pygments_lexer": "ipython3",
   "version": "3.11.5"
  }
 },
 "nbformat": 4,
 "nbformat_minor": 2
}
