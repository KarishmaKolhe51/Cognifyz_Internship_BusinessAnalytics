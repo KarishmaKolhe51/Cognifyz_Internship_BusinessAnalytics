{
 "cells": [
  {
   "cell_type": "code",
   "execution_count": 1,
   "metadata": {},
   "outputs": [],
   "source": [
    "#pandas library\n",
    "import pandas as pd\n",
    "\n",
    "#dataset\n",
    "df = pd.read_csv(r'Dataset.csv')"
   ]
  },
  {
   "cell_type": "code",
   "execution_count": 2,
   "metadata": {},
   "outputs": [
    {
     "name": "stdout",
     "output_type": "stream",
     "text": [
      "Sample 'Expect' Data:\n",
      "0    20%-30%\n",
      "1    20%-30%\n",
      "2    20%-30%\n",
      "3    10%-20%\n",
      "4    20%-30%\n",
      "5    30%-40%\n",
      "6    20%-30%\n",
      "7    20%-30%\n",
      "8    20%-30%\n",
      "9    30%-40%\n",
      "Name: Expect, dtype: object\n",
      "\n",
      "Number of missing values in the 'Expect' column: 0\n",
      "\n",
      "Summary of Expectations from Investments:\n",
      "Expect\n",
      "20%-30%    32\n",
      "30%-40%     5\n",
      "10%-20%     3\n",
      "Name: count, dtype: int64\n",
      "\n",
      "Description of Common Expectations:\n",
      "- 20%-30%: Mentioned 32 times\n",
      "- 30%-40%: Mentioned 5 times\n",
      "- 10%-20%: Mentioned 3 times\n"
     ]
    }
   ],
   "source": [
    "# Step 1: Explore the 'Expect' Column\n",
    "print(\"Sample 'Expect' Data:\")\n",
    "print(df['Expect'].head(10))  # Display the first 10 entries\n",
    "\n",
    "# Step 2: Handle Missing Values\n",
    "missing_values = df['Expect'].isnull().sum()\n",
    "print(f\"\\nNumber of missing values in the 'Expect' column: {missing_values}\")\n",
    "\n",
    "# Drop rows with missing values in 'Expect' column\n",
    "df = df.dropna(subset=['Expect'])\n",
    "\n",
    "# Step 3: Analyze the 'Expect' Column\n",
    "# Count the frequency of unique values\n",
    "expectation_counts = df['Expect'].value_counts()\n",
    "\n",
    "# Step 4: Summarize and Describe Expectations\n",
    "print(\"\\nSummary of Expectations from Investments:\")\n",
    "print(expectation_counts)\n",
    "\n",
    "# Describe expectations\n",
    "print(\"\\nDescription of Common Expectations:\")\n",
    "for expectation, count in expectation_counts.items():\n",
    "    print(f\"- {expectation}: Mentioned {count} times\")"
   ]
  }
 ],
 "metadata": {
  "kernelspec": {
   "display_name": "base",
   "language": "python",
   "name": "python3"
  },
  "language_info": {
   "codemirror_mode": {
    "name": "ipython",
    "version": 3
   },
   "file_extension": ".py",
   "mimetype": "text/x-python",
   "name": "python",
   "nbconvert_exporter": "python",
   "pygments_lexer": "ipython3",
   "version": "3.11.5"
  }
 },
 "nbformat": 4,
 "nbformat_minor": 2
}
