{
 "cells": [
  {
   "cell_type": "code",
   "execution_count": 1,
   "metadata": {},
   "outputs": [],
   "source": [
    "#pandas library\n",
    "import pandas as pd\n",
    "\n",
    "#dataset\n",
    "df = pd.read_csv(r'Dataset.csv')"
   ]
  },
  {
   "cell_type": "code",
   "execution_count": 2,
   "metadata": {},
   "outputs": [
    {
     "name": "stdout",
     "output_type": "stream",
     "text": [
      "Sample Investment Durations:\n",
      "0            1-3 years\n",
      "1    More than 5 years\n",
      "2            3-5 years\n",
      "3     Less than 1 year\n",
      "4     Less than 1 year\n",
      "5            1-3 years\n",
      "6            3-5 years\n",
      "7            3-5 years\n",
      "8            1-3 years\n",
      "9            3-5 years\n",
      "Name: Duration, dtype: object\n",
      "\n",
      "Number of unconverted values in 'Duration_Numeric': 0\n",
      "\n",
      "The average investment duration is approximately: 2.98 years\n"
     ]
    }
   ],
   "source": [
    "# Display sample investment durations\n",
    "print(\"Sample Investment Durations:\")\n",
    "print(df['Duration'].head(10))  # Display first 10 entries\n",
    "\n",
    "# Map duration ranges to approximate numerical values\n",
    "duration_mapping = {\n",
    "    \"Less than 1 year\": 0.5,       # Represent as 0.5 years\n",
    "    \"1-3 years\": 2,               # Represent as midpoint 2 years\n",
    "    \"3-5 years\": 4,               # Represent as midpoint 4 years\n",
    "    \"More than 5 years\": 6        # Represent as a conservative minimum of 6 years\n",
    "}\n",
    "df['Duration_Numeric'] = df['Duration'].map(duration_mapping)\n",
    "\n",
    "# Check for missing or unconverted values\n",
    "missing_values = df['Duration_Numeric'].isnull().sum()\n",
    "print(f\"\\nNumber of unconverted values in 'Duration_Numeric': {missing_values}\")\n",
    "\n",
    "# Calculate the average duration\n",
    "average_duration = df['Duration_Numeric'].mean()\n",
    "print(f\"\\nThe average investment duration is approximately: {average_duration:.2f} years\")"
   ]
  }
 ],
 "metadata": {
  "kernelspec": {
   "display_name": "base",
   "language": "python",
   "name": "python3"
  },
  "language_info": {
   "codemirror_mode": {
    "name": "ipython",
    "version": 3
   },
   "file_extension": ".py",
   "mimetype": "text/x-python",
   "name": "python",
   "nbconvert_exporter": "python",
   "pygments_lexer": "ipython3",
   "version": "3.11.5"
  }
 },
 "nbformat": 4,
 "nbformat_minor": 2
}
