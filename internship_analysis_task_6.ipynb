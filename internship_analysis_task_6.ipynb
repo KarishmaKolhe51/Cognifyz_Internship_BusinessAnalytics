{
 "cells": [
  {
   "cell_type": "code",
   "execution_count": 1,
   "metadata": {},
   "outputs": [],
   "source": [
    "#pandas library\n",
    "import pandas as pd\n",
    "\n",
    "#dataset\n",
    "df = pd.read_csv(r'Dataset.csv')"
   ]
  },
  {
   "cell_type": "code",
   "execution_count": 2,
   "metadata": {},
   "outputs": [
    {
     "name": "stdout",
     "output_type": "stream",
     "text": [
      "Sample Savings Objectives:\n",
      "0    Retirement Plan\n",
      "1        Health Care\n",
      "2    Retirement Plan\n",
      "3    Retirement Plan\n",
      "4    Retirement Plan\n",
      "5    Retirement Plan\n",
      "6    Retirement Plan\n",
      "7    Retirement Plan\n",
      "8    Retirement Plan\n",
      "9    Retirement Plan\n",
      "Name: What are your savings objectives?, dtype: object\n",
      "\n",
      "Number of Unique Savings Objectives: 3\n"
     ]
    }
   ],
   "source": [
    "# Extract the column containing savings objectives\n",
    "savings_objectives = df['What are your savings objectives?'].dropna()\n",
    "\n",
    "# Display sample data\n",
    "print(\"Sample Savings Objectives:\")\n",
    "print(savings_objectives.head(10))  # Display the first 10 entries\n",
    "\n",
    "# Count unique objectives\n",
    "unique_objectives_count = savings_objectives.nunique()\n",
    "print(f\"\\nNumber of Unique Savings Objectives: {unique_objectives_count}\")"
   ]
  },
  {
   "cell_type": "code",
   "execution_count": 3,
   "metadata": {},
   "outputs": [
    {
     "name": "stdout",
     "output_type": "stream",
     "text": [
      "\n",
      "Main Savings Objectives:\n",
      "What are your savings objectives?\n",
      "Retirement Plan    24\n",
      "Health Care        13\n",
      "Education           3\n",
      "Name: count, dtype: int64\n",
      "\n",
      "Description:\n",
      "Participants' main savings objectives include:\n",
      "- Retirement Plan: mentioned 24 times\n",
      "- Health Care: mentioned 13 times\n",
      "- Education: mentioned 3 times\n"
     ]
    }
   ],
   "source": [
    "# List unique savings objectives and their counts\n",
    "savings_objectives_list = savings_objectives.value_counts()\n",
    "print(\"\\nMain Savings Objectives:\")\n",
    "print(savings_objectives_list)\n",
    "\n",
    "# Provide a description\n",
    "print(\"\\nDescription:\")\n",
    "print(\"Participants' main savings objectives include:\")\n",
    "for objective, count in savings_objectives_list.items():\n",
    "    print(f\"- {objective}: mentioned {count} times\")"
   ]
  }
 ],
 "metadata": {
  "kernelspec": {
   "display_name": "base",
   "language": "python",
   "name": "python3"
  },
  "language_info": {
   "codemirror_mode": {
    "name": "ipython",
    "version": 3
   },
   "file_extension": ".py",
   "mimetype": "text/x-python",
   "name": "python",
   "nbconvert_exporter": "python",
   "pygments_lexer": "ipython3",
   "version": "3.11.5"
  }
 },
 "nbformat": 4,
 "nbformat_minor": 2
}
