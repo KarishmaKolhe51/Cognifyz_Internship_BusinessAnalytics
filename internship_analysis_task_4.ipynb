{
 "cells": [
  {
   "cell_type": "code",
   "execution_count": 1,
   "metadata": {},
   "outputs": [],
   "source": [
    "#pandas library\n",
    "import pandas as pd\n",
    "\n",
    "#dataset\n",
    "df = pd.read_csv(r'Dataset.csv')"
   ]
  },
  {
   "cell_type": "code",
   "execution_count": 2,
   "metadata": {},
   "outputs": [
    {
     "name": "stdout",
     "output_type": "stream",
     "text": [
      "Investment Totals:\n",
      "Mutual_Funds        102\n",
      "Equity_Market       139\n",
      "Debentures          230\n",
      "Government_Bonds    186\n",
      "Fixed_Deposits      143\n",
      "PPF                  81\n",
      "Gold                239\n",
      "dtype: int64\n",
      "\n",
      "The most preferred investment avenue is Gold with a total score of 239.\n"
     ]
    }
   ],
   "source": [
    "# Columns representing investment avenues\n",
    "investment_columns = ['Mutual_Funds', 'Equity_Market', 'Debentures',\n",
    "                      'Government_Bonds', 'Fixed_Deposits', 'PPF', 'Gold']\n",
    "\n",
    "# Calculate the total preference for each avenue\n",
    "investment_totals = df[investment_columns].sum()\n",
    "\n",
    "# Find the most preferred investment avenue\n",
    "most_preferred = investment_totals.idxmax()\n",
    "most_preferred_value = investment_totals.max()\n",
    "\n",
    "print(\"Investment Totals:\")\n",
    "print(investment_totals)\n",
    "print(f\"\\nThe most preferred investment avenue is {most_preferred} with a total score of {most_preferred_value}.\")"
   ]
  }
 ],
 "metadata": {
  "kernelspec": {
   "display_name": "base",
   "language": "python",
   "name": "python3"
  },
  "language_info": {
   "codemirror_mode": {
    "name": "ipython",
    "version": 3
   },
   "file_extension": ".py",
   "mimetype": "text/x-python",
   "name": "python",
   "nbconvert_exporter": "python",
   "pygments_lexer": "ipython3",
   "version": "3.11.5"
  }
 },
 "nbformat": 4,
 "nbformat_minor": 2
}
