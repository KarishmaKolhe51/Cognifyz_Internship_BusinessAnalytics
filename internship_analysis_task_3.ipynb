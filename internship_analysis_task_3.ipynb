{
 "cells": [
  {
   "cell_type": "code",
   "execution_count": 1,
   "metadata": {},
   "outputs": [],
   "source": [
    "#pandas library\n",
    "import pandas as pd\n",
    "\n",
    "#dataset\n",
    "df = pd.read_csv(r'Dataset.csv')"
   ]
  },
  {
   "cell_type": "code",
   "execution_count": 2,
   "metadata": {},
   "outputs": [
    {
     "name": "stdout",
     "output_type": "stream",
     "text": [
      "Numerical Columns in the Dataset: Index(['age', 'Mutual_Funds', 'Equity_Market', 'Debentures',\n",
      "       'Government_Bonds', 'Fixed_Deposits', 'PPF', 'Gold'],\n",
      "      dtype='object')\n",
      "\n",
      "Descriptive Statistics:\n",
      "               age  Mutual_Funds  Equity_Market  Debentures  Government_Bonds  \\\n",
      "mean    27.800000      2.550000       3.475000    5.750000          4.650000   \n",
      "median  27.000000      2.000000       4.000000    6.500000          5.000000   \n",
      "std      3.560467      1.197219       1.131994    1.675617          1.369072   \n",
      "\n",
      "        Fixed_Deposits       PPF      Gold  \n",
      "mean          3.575000  2.025000  5.975000  \n",
      "median        3.500000  1.000000  6.000000  \n",
      "std           1.795828  1.609069  1.143263  \n"
     ]
    }
   ],
   "source": [
    "# Step 1: Identify Numerical Columns\n",
    "numerical_columns = df.select_dtypes(include=['float64', 'int64']).columns\n",
    "print(\"Numerical Columns in the Dataset:\", numerical_columns)\n",
    "\n",
    "# Step 2: Calculate Descriptive Statistics\n",
    "# mean, median, and standard deviation for each numerical column\n",
    "statistics = df[numerical_columns].agg(['mean', 'median', 'std'])\n",
    "\n",
    "# Display the calculated statistics\n",
    "print(\"\\nDescriptive Statistics:\\n\", statistics)"
   ]
  }
 ],
 "metadata": {
  "kernelspec": {
   "display_name": "base",
   "language": "python",
   "name": "python3"
  },
  "language_info": {
   "codemirror_mode": {
    "name": "ipython",
    "version": 3
   },
   "file_extension": ".py",
   "mimetype": "text/x-python",
   "name": "python",
   "nbconvert_exporter": "python",
   "pygments_lexer": "ipython3",
   "version": "3.11.5"
  }
 },
 "nbformat": 4,
 "nbformat_minor": 2
}
